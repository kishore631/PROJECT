{
  "nbformat": 4,
  "nbformat_minor": 0,
  "metadata": {
    "colab": {
      "provenance": [],
      "authorship_tag": "ABX9TyONtpttyr0vHKPcpTmxVnC0",
      "include_colab_link": true
    },
    "kernelspec": {
      "name": "python3",
      "display_name": "Python 3"
    },
    "language_info": {
      "name": "python"
    }
  },
  "cells": [
    {
      "cell_type": "markdown",
      "metadata": {
        "id": "view-in-github",
        "colab_type": "text"
      },
      "source": [
        "<a href=\"https://colab.research.google.com/github/kishore631/Calculator/blob/main/PROJECT.ipynb\" target=\"_parent\"><img src=\"https://colab.research.google.com/assets/colab-badge.svg\" alt=\"Open In Colab\"/></a>"
      ]
    },
    {
      "cell_type": "markdown",
      "source": [
        "**HAND WRITTEN DIGIT PREDICTION**"
      ],
      "metadata": {
        "id": "cyn4CPaBCYYu"
      }
    },
    {
      "cell_type": "markdown",
      "source": [
        "**Objective**"
      ],
      "metadata": {
        "id": "8CuhQfu_Czw8"
      }
    },
    {
      "cell_type": "markdown",
      "source": [
        "To build and evaluate a neural network model to classify handwritten digits from the MNIST dataset."
      ],
      "metadata": {
        "id": "hptkGqzDC_RD"
      }
    },
    {
      "cell_type": "markdown",
      "source": [
        "**Data Source**"
      ],
      "metadata": {
        "id": "XlmbEbrgDGBz"
      }
    },
    {
      "cell_type": "markdown",
      "source": [
        "The MNIST dataset is a well-known dataset of handwritten digits, available directly through TensorFlow 'keras.datasets' module."
      ],
      "metadata": {
        "id": "o44kmvuiDMWj"
      }
    },
    {
      "cell_type": "markdown",
      "source": [
        "**Import Libraries**\n",
        "\n",
        "\n",
        "\n",
        "\n",
        "\n"
      ],
      "metadata": {
        "id": "n1s2ZxRwDeTy"
      }
    },
    {
      "cell_type": "code",
      "execution_count": 12,
      "metadata": {
        "id": "cp4jvMsk9seG"
      },
      "outputs": [],
      "source": [
        "# Import necessary libraries\n",
        "import numpy as np\n",
        "import tensorflow as tf\n",
        "from tensorflow.keras.datasets import mnist\n",
        "from tensorflow.keras.models import Sequential\n",
        "from tensorflow.keras.layers import Dense, Flatten\n",
        "from tensorflow.keras.utils import to_categorical\n",
        "import matplotlib.pyplot as plt\n"
      ]
    },
    {
      "cell_type": "markdown",
      "source": [
        "**Import Datat**"
      ],
      "metadata": {
        "id": "8L_MTwp1D2CQ"
      }
    },
    {
      "cell_type": "code",
      "source": [
        "# Load the MNIST dataset\n",
        "(x_train, y_train), (x_test, y_test) = mnist.load_data()\n"
      ],
      "metadata": {
        "id": "0PzdAsV79uwO"
      },
      "execution_count": 14,
      "outputs": []
    },
    {
      "cell_type": "markdown",
      "source": [
        "**Describe Data**"
      ],
      "metadata": {
        "id": "wLkBsEjLD-J3"
      }
    },
    {
      "cell_type": "code",
      "source": [
        "# Display the shape of the dataset\n",
        "print(\"Training data shape:\", x_train.shape)\n",
        "print(\"Training labels shape:\", y_train.shape)\n",
        "print(\"Test data shape:\", x_test.shape)\n",
        "print(\"Test labels shape:\", y_test.shape)"
      ],
      "metadata": {
        "colab": {
          "base_uri": "https://localhost:8080/"
        },
        "id": "mHE0BfFe9uzT",
        "outputId": "0b508570-3c66-48ea-e031-ad36cb5f03c3"
      },
      "execution_count": 15,
      "outputs": [
        {
          "output_type": "stream",
          "name": "stdout",
          "text": [
            "Training data shape: (60000, 28, 28)\n",
            "Training labels shape: (60000,)\n",
            "Test data shape: (10000, 28, 28)\n",
            "Test labels shape: (10000,)\n"
          ]
        }
      ]
    },
    {
      "cell_type": "markdown",
      "source": [
        "**Data Visualization**"
      ],
      "metadata": {
        "id": "eTSt-hRIEt4W"
      }
    },
    {
      "cell_type": "code",
      "source": [
        "# Display an example image\n",
        "plt.imshow(x_train[0], cmap='gray')\n",
        "plt.title(f\"Label: {y_train[0]}\")\n",
        "plt.show()\n",
        "\n",
        "# Visualize a few images from the dataset\n",
        "fig, axes = plt.subplots(1, 5, figsize=(10, 5))\n",
        "for i in range(5):\n",
        "    axes[i].imshow(x_train[i], cmap='gray')\n",
        "    axes[i].set_title(f\"Label: {y_train[i]}\")\n",
        "    axes[i].axis('off')\n",
        "plt.show()\n"
      ],
      "metadata": {
        "colab": {
          "base_uri": "https://localhost:8080/",
          "height": 627
        },
        "id": "7q1Nb0ChERQp",
        "outputId": "f13c352f-3ca8-40b7-8bc0-5af470c849bb"
      },
      "execution_count": 16,
      "outputs": [
        {
          "output_type": "display_data",
          "data": {
            "text/plain": [
              "<Figure size 640x480 with 1 Axes>"
            ],
            "image/png": "[encoded data removed]"
          },
          "metadata": {}
        },
        {
          "output_type": "display_data",
          "data": {
            "text/plain": [
              "<Figure size 1000x500 with 5 Axes>"
            ],
            "image/png": "[encoded data removed]"
          },
          "metadata": {}
        }
      ]
    },
    {
      "cell_type": "markdown",
      "source": [
        "**Data Preprocessing**"
      ],
      "metadata": {
        "id": "affexv8hE2E9"
      }
    },
    {
      "cell_type": "code",
      "source": [
        "# Normalize the images to the range [0, 1]\n",
        "x_train = x_train / 255.0\n",
        "x_test = x_test / 255.0\n",
        "\n",
        "# Convert labels to one-hot encoded format\n",
        "y_train = to_categorical(y_train, 10)\n",
        "y_test = to_categorical(y_test, 10)\n"
      ],
      "metadata": {
        "id": "2GN8CCz_9vTC"
      },
      "execution_count": 17,
      "outputs": []
    },
    {
      "cell_type": "markdown",
      "source": [
        "**Define Target Variable (y) and Feature Variables (X)**"
      ],
      "metadata": {
        "id": "Hd6C__lvFG70"
      }
    },
    {
      "cell_type": "markdown",
      "source": [
        "Target Variable (y): The labels (y_train and y_test) representing the digit (0-9) each image corresponds to.\n",
        "Feature Variables (X): The pixel values of the images (x_train and x_test), which are 28x28 grayscale images."
      ],
      "metadata": {
        "id": "EqBoIdWcFKgF"
      }
    },
    {
      "cell_type": "markdown",
      "source": [
        "**Train Test Split**"
      ],
      "metadata": {
        "id": "DMnEOqq5FTSb"
      }
    },
    {
      "cell_type": "markdown",
      "source": [
        "The dataset is already split into training and testing sets with 'x_train', 'y_train', 'x_test', and 'y_test'."
      ],
      "metadata": {
        "id": "NiazLgUBFYSj"
      }
    },
    {
      "cell_type": "markdown",
      "source": [
        "**Modeling**"
      ],
      "metadata": {
        "id": "Czkon_OMFmQa"
      }
    },
    {
      "cell_type": "code",
      "source": [
        "# Build the neural network model\n",
        "model = Sequential([\n",
        "    Flatten(input_shape=(28, 28)),\n",
        "    Dense(128, activation='relu'),\n",
        "    Dense(10, activation='softmax')\n",
        "])\n",
        "\n",
        "# Compile the model\n",
        "model.compile(optimizer='adam', loss='categorical_crossentropy', metrics=['accuracy'])\n",
        "\n",
        "# Train the model\n",
        "model.fit(x_train, y_train, epochs=5, batch_size=32, validation_split=0.2)\n"
      ],
      "metadata": {
        "colab": {
          "base_uri": "https://localhost:8080/"
        },
        "id": "ABmtggdd_PzR",
        "outputId": "24f6d0e9-0510-4fec-9420-e00cba084eaf"
      },
      "execution_count": 18,
      "outputs": [
        {
          "output_type": "stream",
          "name": "stdout",
          "text": [
            "Epoch 1/5\n",
            "\u001b[1m1500/1500\u001b[0m \u001b[32m━━━━━━━━━━━━━━━━━━━━\u001b[0m\u001b[37m\u001b[0m \u001b[1m7s\u001b[0m 4ms/step - accuracy: 0.8627 - loss: 0.4775 - val_accuracy: 0.9543 - val_loss: 0.1625\n",
            "Epoch 2/5\n",
            "\u001b[1m1500/1500\u001b[0m \u001b[32m━━━━━━━━━━━━━━━━━━━━\u001b[0m\u001b[37m\u001b[0m \u001b[1m9s\u001b[0m 3ms/step - accuracy: 0.9616 - loss: 0.1308 - val_accuracy: 0.9657 - val_loss: 0.1143\n",
            "Epoch 3/5\n",
            "\u001b[1m1500/1500\u001b[0m \u001b[32m━━━━━━━━━━━━━━━━━━━━\u001b[0m\u001b[37m\u001b[0m \u001b[1m5s\u001b[0m 3ms/step - accuracy: 0.9739 - loss: 0.0873 - val_accuracy: 0.9713 - val_loss: 0.0960\n",
            "Epoch 4/5\n",
            "\u001b[1m1500/1500\u001b[0m \u001b[32m━━━━━━━━━━━━━━━━━━━━\u001b[0m\u001b[37m\u001b[0m \u001b[1m5s\u001b[0m 3ms/step - accuracy: 0.9827 - loss: 0.0608 - val_accuracy: 0.9699 - val_loss: 0.0938\n",
            "Epoch 5/5\n",
            "\u001b[1m1500/1500\u001b[0m \u001b[32m━━━━━━━━━━━━━━━━━━━━\u001b[0m\u001b[37m\u001b[0m \u001b[1m6s\u001b[0m 4ms/step - accuracy: 0.9853 - loss: 0.0486 - val_accuracy: 0.9722 - val_loss: 0.0871\n"
          ]
        },
        {
          "output_type": "execute_result",
          "data": {
            "text/plain": [
              "<keras.src.callbacks.history.History at 0x79f4a96a7640>"
            ]
          },
          "metadata": {},
          "execution_count": 18
        }
      ]
    },
    {
      "cell_type": "markdown",
      "source": [
        "**Model Evaluation**"
      ],
      "metadata": {
        "id": "Cc6tb7J_FxfZ"
      }
    },
    {
      "cell_type": "code",
      "source": [
        "# Evaluate the model on the test data\n",
        "test_loss, test_accuracy = model.evaluate(x_test, y_test)\n",
        "print(f\"Test accuracy: {test_accuracy:.4f}\")\n"
      ],
      "metadata": {
        "colab": {
          "base_uri": "https://localhost:8080/"
        },
        "id": "E_pRzsAP_P8v",
        "outputId": "66b0ae2c-f74f-4cd6-dd21-6ca3af834f48"
      },
      "execution_count": 19,
      "outputs": [
        {
          "output_type": "stream",
          "name": "stdout",
          "text": [
            "\u001b[1m313/313\u001b[0m \u001b[32m━━━━━━━━━━━━━━━━━━━━\u001b[0m\u001b[37m\u001b[0m \u001b[1m1s\u001b[0m 1ms/step - accuracy: 0.9732 - loss: 0.0928\n",
            "Test accuracy: 0.9769\n"
          ]
        }
      ]
    },
    {
      "cell_type": "markdown",
      "source": [
        "**Prediction**"
      ],
      "metadata": {
        "id": "lZ2KqrmUF3AC"
      }
    },
    {
      "cell_type": "code",
      "source": [
        "# Make predictions on the test set\n",
        "predictions = model.predict(x_test)\n",
        "\n",
        "# Display the first prediction and corresponding test label\n",
        "print(f\"Predicted label: {np.argmax(predictions[0])}\")\n",
        "print(f\"True label: {np.argmax(y_test[0])}\")\n",
        "\n",
        "# Visualize the prediction\n",
        "plt.imshow(x_test[0], cmap='gray')\n",
        "plt.title(f\"Predicted: {np.argmax(predictions[0])}, True: {np.argmax(y_test[0])}\")\n",
        "plt.show()\n"
      ],
      "metadata": {
        "colab": {
          "base_uri": "https://localhost:8080/",
          "height": 504
        },
        "id": "QvOkd04b_QHH",
        "outputId": "3eb65143-36f1-4e7e-aaff-9492c1f72006"
      },
      "execution_count": 20,
      "outputs": [
        {
          "output_type": "stream",
          "name": "stdout",
          "text": [
            "\u001b[1m313/313\u001b[0m \u001b[32m━━━━━━━━━━━━━━━━━━━━\u001b[0m\u001b[37m\u001b[0m \u001b[1m0s\u001b[0m 1ms/step\n",
            "Predicted label: 7\n",
            "True label: 7\n"
          ]
        },
        {
          "output_type": "display_data",
          "data": {
            "text/plain": [
              "<Figure size 640x480 with 1 Axes>"
            ],
            "image/png": "[encoded data removed]"
          },
          "metadata": {}
        }
      ]
    },
    {
      "cell_type": "markdown",
      "source": [
        "**Explanation**"
      ],
      "metadata": {
        "id": "REx-rRxmGH2y"
      }
    },
    {
      "cell_type": "markdown",
      "source": [
        "This project demonstrates a basic neural network model for classifying handwritten digits from the MNIST dataset. The model consists of a simple feedforward neural network with one hidden layer. The model was trained on 60,000 images and evaluated on 10,000 test images, achieving a certain level of accuracy.\n",
        "\n"
      ],
      "metadata": {
        "id": "9clZx6YKGOXJ"
      }
    }
  ]
}